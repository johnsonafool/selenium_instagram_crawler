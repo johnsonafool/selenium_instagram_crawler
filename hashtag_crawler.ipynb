{
 "cells": [
  {
   "cell_type": "code",
   "execution_count": 67,
   "metadata": {},
   "outputs": [],
   "source": [
    "from selenium import webdriver\n",
    "from selenium.webdriver.common.keys import Keys\n",
    "from selenium.webdriver.support import expected_conditions as EC\n",
    "from selenium.webdriver.common.by import By\n",
    "from selenium.webdriver.support.wait import WebDriverWait\n",
    "import time\n",
    "from selenium.webdriver.chrome.service import Service\n",
    "from selenium.webdriver.common.by import By"
   ]
  },
  {
   "cell_type": "code",
   "execution_count": 68,
   "metadata": {},
   "outputs": [],
   "source": [
    "s = Service(\"/opt/homebrew/bin/chromedriver\")\n",
    "driver = webdriver.Chrome(service=s)\n",
    "\n",
    "driver.get(\"http://www.instagram.com\")\n",
    "\n",
    "username = WebDriverWait(driver, 10).until(EC.element_to_be_clickable((By.CSS_SELECTOR, \"input[name='username']\")))\n",
    "password = WebDriverWait(driver, 10).until(EC.element_to_be_clickable((By.CSS_SELECTOR, \"input[name='password']\")))\n",
    "\n",
    "username.clear()\n",
    "username.send_keys(\"USER\")\n",
    "password.clear()\n",
    "password.send_keys(\"PASSWORD\")\n",
    "\n",
    "button = WebDriverWait(driver, 2).until(EC.element_to_be_clickable((By.CSS_SELECTOR, \"button[type='submit']\"))).click()"
   ]
  },
  {
   "cell_type": "code",
   "execution_count": 69,
   "metadata": {},
   "outputs": [],
   "source": [
    "time.sleep(5)\n",
    "alert = WebDriverWait(driver, 15).until(EC.element_to_be_clickable((By.XPATH, '//button[contains(text(), \"Not Now\")]'))).click()"
   ]
  },
  {
   "cell_type": "code",
   "execution_count": 106,
   "metadata": {},
   "outputs": [
    {
     "ename": "TimeoutException",
     "evalue": "Message: \nStacktrace:\n0   chromedriver                        0x0000000105259d14 chromedriver + 3792148\n1   chromedriver                        0x00000001051f0828 chromedriver + 3360808\n2   chromedriver                        0x0000000104ef10b8 chromedriver + 217272\n3   chromedriver                        0x0000000104f20e90 chromedriver + 413328\n4   chromedriver                        0x0000000104f49a60 chromedriver + 580192\n5   chromedriver                        0x0000000104f16318 chromedriver + 369432\n6   chromedriver                        0x000000010522f1e8 chromedriver + 3617256\n7   chromedriver                        0x0000000105233678 chromedriver + 3634808\n8   chromedriver                        0x0000000105237c6c chromedriver + 3652716\n9   chromedriver                        0x0000000105234110 chromedriver + 3637520\n10  chromedriver                        0x00000001052127ac chromedriver + 3499948\n11  chromedriver                        0x000000010524bbf0 chromedriver + 3734512\n12  chromedriver                        0x000000010524bd54 chromedriver + 3734868\n13  chromedriver                        0x0000000105260558 chromedriver + 3818840\n14  libsystem_pthread.dylib             0x000000018769a26c _pthread_start + 148\n15  libsystem_pthread.dylib             0x000000018769508c thread_start + 8\n",
     "output_type": "error",
     "traceback": [
      "\u001b[0;31m---------------------------------------------------------------------------\u001b[0m",
      "\u001b[0;31mTimeoutException\u001b[0m                          Traceback (most recent call last)",
      "\u001b[0;32m/var/folders/ld/vvyhl7992v716byfq7fgmbhm0000gn/T/ipykernel_45796/3194884434.py\u001b[0m in \u001b[0;36m<module>\u001b[0;34m\u001b[0m\n\u001b[1;32m      7\u001b[0m \u001b[0;34m\u001b[0m\u001b[0m\n\u001b[1;32m      8\u001b[0m \u001b[0mtime\u001b[0m\u001b[0;34m.\u001b[0m\u001b[0msleep\u001b[0m\u001b[0;34m(\u001b[0m\u001b[0;36m5\u001b[0m\u001b[0;34m)\u001b[0m\u001b[0;34m\u001b[0m\u001b[0;34m\u001b[0m\u001b[0m\n\u001b[0;32m----> 9\u001b[0;31m \u001b[0mlink\u001b[0m \u001b[0;34m=\u001b[0m \u001b[0mWebDriverWait\u001b[0m\u001b[0;34m(\u001b[0m\u001b[0mdriver\u001b[0m\u001b[0;34m,\u001b[0m \u001b[0;36m10\u001b[0m\u001b[0;34m)\u001b[0m\u001b[0;34m.\u001b[0m\u001b[0muntil\u001b[0m\u001b[0;34m(\u001b[0m\u001b[0mEC\u001b[0m\u001b[0;34m.\u001b[0m\u001b[0melement_to_be_clickable\u001b[0m\u001b[0;34m(\u001b[0m\u001b[0;34m(\u001b[0m\u001b[0mBy\u001b[0m\u001b[0;34m.\u001b[0m\u001b[0mXPATH\u001b[0m\u001b[0;34m,\u001b[0m \u001b[0;34m\"//a[contains(@href, '/\"\u001b[0m \u001b[0;34m+\u001b[0m \u001b[0mkeyword\u001b[0m\u001b[0;34m[\u001b[0m\u001b[0;36m1\u001b[0m\u001b[0;34m:\u001b[0m\u001b[0;34m]\u001b[0m \u001b[0;34m+\u001b[0m \u001b[0;34m\"/')]\"\u001b[0m\u001b[0;34m)\u001b[0m\u001b[0;34m)\u001b[0m\u001b[0;34m)\u001b[0m\u001b[0;34m\u001b[0m\u001b[0;34m\u001b[0m\u001b[0m\n\u001b[0m\u001b[1;32m     10\u001b[0m \u001b[0;31m# searchbox.send_keys(Keys.ENTER)\u001b[0m\u001b[0;34m\u001b[0m\u001b[0;34m\u001b[0m\u001b[0m\n\u001b[1;32m     11\u001b[0m \u001b[0;34m\u001b[0m\u001b[0m\n",
      "\u001b[0;32m~/opt/anaconda3/lib/python3.9/site-packages/selenium/webdriver/support/wait.py\u001b[0m in \u001b[0;36muntil\u001b[0;34m(self, method, message)\u001b[0m\n\u001b[1;32m     88\u001b[0m             \u001b[0;32mif\u001b[0m \u001b[0mtime\u001b[0m\u001b[0;34m.\u001b[0m\u001b[0mmonotonic\u001b[0m\u001b[0;34m(\u001b[0m\u001b[0;34m)\u001b[0m \u001b[0;34m>\u001b[0m \u001b[0mend_time\u001b[0m\u001b[0;34m:\u001b[0m\u001b[0;34m\u001b[0m\u001b[0;34m\u001b[0m\u001b[0m\n\u001b[1;32m     89\u001b[0m                 \u001b[0;32mbreak\u001b[0m\u001b[0;34m\u001b[0m\u001b[0;34m\u001b[0m\u001b[0m\n\u001b[0;32m---> 90\u001b[0;31m         \u001b[0;32mraise\u001b[0m \u001b[0mTimeoutException\u001b[0m\u001b[0;34m(\u001b[0m\u001b[0mmessage\u001b[0m\u001b[0;34m,\u001b[0m \u001b[0mscreen\u001b[0m\u001b[0;34m,\u001b[0m \u001b[0mstacktrace\u001b[0m\u001b[0;34m)\u001b[0m\u001b[0;34m\u001b[0m\u001b[0;34m\u001b[0m\u001b[0m\n\u001b[0m\u001b[1;32m     91\u001b[0m \u001b[0;34m\u001b[0m\u001b[0m\n\u001b[1;32m     92\u001b[0m     \u001b[0;32mdef\u001b[0m \u001b[0muntil_not\u001b[0m\u001b[0;34m(\u001b[0m\u001b[0mself\u001b[0m\u001b[0;34m,\u001b[0m \u001b[0mmethod\u001b[0m\u001b[0;34m,\u001b[0m \u001b[0mmessage\u001b[0m\u001b[0;34m:\u001b[0m \u001b[0mstr\u001b[0m \u001b[0;34m=\u001b[0m \u001b[0;34m\"\"\u001b[0m\u001b[0;34m)\u001b[0m\u001b[0;34m:\u001b[0m\u001b[0;34m\u001b[0m\u001b[0;34m\u001b[0m\u001b[0m\n",
      "\u001b[0;31mTimeoutException\u001b[0m: Message: \nStacktrace:\n0   chromedriver                        0x0000000105259d14 chromedriver + 3792148\n1   chromedriver                        0x00000001051f0828 chromedriver + 3360808\n2   chromedriver                        0x0000000104ef10b8 chromedriver + 217272\n3   chromedriver                        0x0000000104f20e90 chromedriver + 413328\n4   chromedriver                        0x0000000104f49a60 chromedriver + 580192\n5   chromedriver                        0x0000000104f16318 chromedriver + 369432\n6   chromedriver                        0x000000010522f1e8 chromedriver + 3617256\n7   chromedriver                        0x0000000105233678 chromedriver + 3634808\n8   chromedriver                        0x0000000105237c6c chromedriver + 3652716\n9   chromedriver                        0x0000000105234110 chromedriver + 3637520\n10  chromedriver                        0x00000001052127ac chromedriver + 3499948\n11  chromedriver                        0x000000010524bbf0 chromedriver + 3734512\n12  chromedriver                        0x000000010524bd54 chromedriver + 3734868\n13  chromedriver                        0x0000000105260558 chromedriver + 3818840\n14  libsystem_pthread.dylib             0x000000018769a26c _pthread_start + 148\n15  libsystem_pthread.dylib             0x000000018769508c thread_start + 8\n"
     ]
    }
   ],
   "source": [
    "searchbox = WebDriverWait(driver, 10).until(EC.element_to_be_clickable((By.XPATH, \"//input[@placeholder='Search']\")))\n",
    "searchbox.clear()\n",
    "\n",
    "keyword = \"#咖啡廳\"   \n",
    "searchbox.send_keys(keyword)\n",
    " \n",
    "time.sleep(5)\n",
    "link = WebDriverWait(driver, 10).until(EC.element_to_be_clickable((By.XPATH, \"//a[contains(@href, '/\" + keyword[1:] + \"/')]\")))\n",
    "link.click() \n",
    "\n",
    "# searchbox.send_keys(Keys.ENTER)"
   ]
  },
  {
   "cell_type": "code",
   "execution_count": 107,
   "metadata": {},
   "outputs": [],
   "source": [
    "n_scrolls = 1\n",
    "for j in range(0, n_scrolls):\n",
    "    driver.execute_script(\"window.scrollTo(0, document.body.scrollHeight);\")\n",
    "    time.sleep(5)"
   ]
  },
  {
   "cell_type": "code",
   "execution_count": 121,
   "metadata": {},
   "outputs": [
    {
     "data": {
      "text/plain": [
       "['https://www.instagram.com/p/Cf4RMWwhn4W/',\n",
       " 'https://www.instagram.com/p/CfwRs_9P8qP/',\n",
       " 'https://www.instagram.com/p/CgCa8DAr8We/',\n",
       " 'https://www.instagram.com/p/CgCJybEPdFp/',\n",
       " 'https://www.instagram.com/p/CgD8z4eruME/']"
      ]
     },
     "execution_count": 121,
     "metadata": {},
     "output_type": "execute_result"
    }
   ],
   "source": [
    "anchors = driver.find_elements(By.TAG_NAME, 'a')\n",
    "anchors = [a.get_attribute('href') for a in anchors]\n",
    "\n",
    "anchors = [a for a in anchors if a.startswith(\"https://www.instagram.com/p/\")]\n",
    "anchors[:5]\n",
    "\n",
    "# anchors = [a for a in anchors if a.startswith(\"https://www.instagram.com/explore/locations/\")]#\\\n",
    "# print('Found ' + str(len(anchors)) + ' links to images')"
   ]
  },
  {
   "cell_type": "code",
   "execution_count": 126,
   "metadata": {},
   "outputs": [
    {
     "data": {
      "text/plain": [
       "[['https://www.instagram.com/explore/locations/103082974913502/',\n",
       "  'https://www.instagram.com/explore/locations/'],\n",
       " ['https://www.instagram.com/explore/locations/105676231734626/flow-row-cafe/',\n",
       "  'https://www.instagram.com/explore/locations/'],\n",
       " ['https://www.instagram.com/explore/locations/419329917/r9-cafe/',\n",
       "  'https://www.instagram.com/explore/locations/'],\n",
       " ['https://www.instagram.com/explore/locations/105069045347517/lsod-dessert-coffee/',\n",
       "  'https://www.instagram.com/explore/locations/'],\n",
       " ['https://www.instagram.com/explore/locations/100168908185361/',\n",
       "  'https://www.instagram.com/explore/locations/']]"
      ]
     },
     "execution_count": 126,
     "metadata": {},
     "output_type": "execute_result"
    }
   ],
   "source": [
    "locations = []\n",
    "\n",
    "for anchor in anchors:\n",
    "    try:\n",
    "        driver.get(anchor)\n",
    "        time.sleep(5)\n",
    "        location = driver.find_elements(By.TAG_NAME, 'a')\n",
    "        location = [a.get_attribute('href') for a in location]\n",
    "        location = [l for l in location if l.startswith(\"https://www.instagram.com/explore/locations/\")]\n",
    "\n",
    "        if str(location) == \"https://www.instagram.com/explore/locations/\":\n",
    "            continue\n",
    "    \n",
    "        if len(location) == 0:\n",
    "            str = 'no location for this post'\n",
    "            locations.append(str)\n",
    "        locations.append(location)\n",
    "    except:\n",
    "        pass\n",
    "\n",
    "locations[:5]"
   ]
  }
 ],
 "metadata": {
  "interpreter": {
   "hash": "a78333d3dd35bd397fd7eb280cbf985f60e7755d34dc1d4875ecc7c028eccb3a"
  },
  "kernelspec": {
   "display_name": "Python 3.9.7 ('base')",
   "language": "python",
   "name": "python3"
  },
  "language_info": {
   "codemirror_mode": {
    "name": "ipython",
    "version": 3
   },
   "file_extension": ".py",
   "mimetype": "text/x-python",
   "name": "python",
   "nbconvert_exporter": "python",
   "pygments_lexer": "ipython3",
   "version": "3.9.7"
  },
  "orig_nbformat": 4
 },
 "nbformat": 4,
 "nbformat_minor": 2
}
